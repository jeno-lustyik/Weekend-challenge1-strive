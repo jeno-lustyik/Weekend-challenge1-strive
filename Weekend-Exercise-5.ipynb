{
 "cells": [
  {
   "cell_type": "code",
   "execution_count": 9,
   "metadata": {
    "collapsed": true
   },
   "outputs": [
    {
     "name": "stdout",
     "output_type": "stream",
     "text": [
      "-1\n"
     ]
    }
   ],
   "source": [
    "#Secret Agent Challenge\n",
    "def secret_function(size, people):\n",
    "    candidates = []\n",
    "    if size == 0:\n",
    "        return -1\n",
    "    for n in people:\n",
    "        if len(n) > 2:\n",
    "            return -1\n",
    "        candidates.append(n[0])\n",
    "    for i in candidates:\n",
    "        if candidates.count(i) == size-1:\n",
    "            return i\n",
    "        else:\n",
    "            return 0\n",
    "group = [['jeno', 'lara'], ['jeno', 'felix'], ['lara', 'felix'], ['lara', 'peter', 'felix']]\n",
    "print(secret_function(3, group))"
   ]
  }
 ],
 "metadata": {
  "kernelspec": {
   "display_name": "Python 3",
   "language": "python",
   "name": "python3"
  },
  "language_info": {
   "codemirror_mode": {
    "name": "ipython",
    "version": 2
   },
   "file_extension": ".py",
   "mimetype": "text/x-python",
   "name": "python",
   "nbconvert_exporter": "python",
   "pygments_lexer": "ipython2",
   "version": "2.7.6"
  }
 },
 "nbformat": 4,
 "nbformat_minor": 0
}