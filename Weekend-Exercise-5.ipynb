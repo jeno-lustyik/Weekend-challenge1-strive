{
 "cells": [
  {
   "cell_type": "code",
   "execution_count": 15,
   "metadata": {
    "collapsed": true
   },
   "outputs": [
    {
     "name": "stdout",
     "output_type": "stream",
     "text": [
      "0\n"
     ]
    }
   ],
   "source": [
    "#Secret Agent Challenge\n",
    "def secret_function(size, people):\n",
    "    counter = []\n",
    "    candidates = []\n",
    "    non_agents = []\n",
    "    if size == 0:\n",
    "        return -1\n",
    "    for n in people:\n",
    "        if len(n) > 2:\n",
    "            return -1\n",
    "        for k in n:\n",
    "            if k not in counter:\n",
    "                counter.append(k)\n",
    "            if len(counter) > size:\n",
    "                 return -1\n",
    "        candidates.append(n[0])\n",
    "        non_agents.append(n[1])\n",
    "    for i in candidates:\n",
    "        if candidates.count(i) == size-1 and i not in non_agents:\n",
    "            return i\n",
    "        else:\n",
    "            return 0\n",
    "group = [['jeno', 'lara'], ['jeno', 'felix'], ['lara', 'jeno']]\n",
    "print(secret_function(3, group))"
   ]
  }
 ],
 "metadata": {
  "kernelspec": {
   "display_name": "Python 3",
   "language": "python",
   "name": "python3"
  },
  "language_info": {
   "codemirror_mode": {
    "name": "ipython",
    "version": 2
   },
   "file_extension": ".py",
   "mimetype": "text/x-python",
   "name": "python",
   "nbconvert_exporter": "python",
   "pygments_lexer": "ipython2",
   "version": "2.7.6"
  }
 },
 "nbformat": 4,
 "nbformat_minor": 0
}