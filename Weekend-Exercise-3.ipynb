{
 "cells": [
  {
   "cell_type": "code",
   "execution_count": 2,
   "metadata": {
    "collapsed": true
   },
   "outputs": [
    {
     "name": "stdout",
     "output_type": "stream",
     "text": [
      "[1, 2, 'Strive', 'School', 'Strive School']\n"
     ]
    }
   ],
   "source": [
    "#Strive School Challenge\n",
    "def strive(list):\n",
    "    out = []\n",
    "    for i in list:\n",
    "        if i % 3 == 0 and i % 5 == 0:\n",
    "            out.append('Strive School')\n",
    "            continue\n",
    "        if i % 3 == 0:\n",
    "            out.append('Strive')\n",
    "            continue\n",
    "        if i % 5 == 0:\n",
    "            out.append('School')\n",
    "            continue\n",
    "        else:\n",
    "            out.append(i)\n",
    "    print(out)\n",
    "    return\n",
    "\n",
    "numbers = [1, 2, 3, 5, 15]\n",
    "strive(numbers)"
   ]
  }
 ],
 "metadata": {
  "kernelspec": {
   "display_name": "Python 3",
   "language": "python",
   "name": "python3"
  },
  "language_info": {
   "codemirror_mode": {
    "name": "ipython",
    "version": 2
   },
   "file_extension": ".py",
   "mimetype": "text/x-python",
   "name": "python",
   "nbconvert_exporter": "python",
   "pygments_lexer": "ipython2",
   "version": "2.7.6"
  }
 },
 "nbformat": 4,
 "nbformat_minor": 0
}