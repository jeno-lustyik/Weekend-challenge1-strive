{
 "cells": [
  {
   "cell_type": "code",
   "execution_count": 5,
   "metadata": {
    "collapsed": true
   },
   "outputs": [
    {
     "name": "stdout",
     "output_type": "stream",
     "text": [
      "[1, 9, 8, 4]\n"
     ]
    },
    {
     "data": {
      "text/plain": "[1, 9, 8, 4]"
     },
     "execution_count": 5,
     "metadata": {},
     "output_type": "execute_result"
    }
   ],
   "source": [
    "#Non Duplicated Challenge\n",
    "def non_duplicate(numbers):\n",
    "    simples = []\n",
    "    for i in numbers:\n",
    "        if numbers.count(i) > 1:\n",
    "            continue\n",
    "        else:\n",
    "            simples.append(i)\n",
    "    print(simples)\n",
    "    return simples\n",
    "\n",
    "numbers = [1, 2, 2, 3, 3, 5, 5, 6, 6, 7, 7, 9, 8, 2, 2, 4]\n",
    "non_duplicate(numbers)"
   ]
  }
 ],
 "metadata": {
  "kernelspec": {
   "display_name": "Python 3",
   "language": "python",
   "name": "python3"
  },
  "language_info": {
   "codemirror_mode": {
    "name": "ipython",
    "version": 2
   },
   "file_extension": ".py",
   "mimetype": "text/x-python",
   "name": "python",
   "nbconvert_exporter": "python",
   "pygments_lexer": "ipython2",
   "version": "2.7.6"
  }
 },
 "nbformat": 4,
 "nbformat_minor": 0
}